{
 "cells": [
  {
   "cell_type": "markdown",
   "id": "887a25ba",
   "metadata": {
    "lines_to_next_cell": 0
   },
   "source": [
    "# Linear Regression Using sklearn\n",
    "Below we perfomr linear regression using sklearn. The first thing to do is import modules."
   ]
  },
  {
   "cell_type": "code",
   "execution_count": 6,
   "id": "2484e789",
   "metadata": {},
   "outputs": [],
   "source": [
    "import numpy as np\n",
    "import matplotlib.pyplot as plt\n",
    "from sklearn import linear_model\n",
    "from sklearn import metrics # For calculating the accuracy"
   ]
  },
  {
   "cell_type": "markdown",
   "id": "3ac26ba1",
   "metadata": {},
   "source": [
    "See that how we can create and train the model in two lines of code"
   ]
  },
  {
   "cell_type": "code",
   "execution_count": 7,
   "id": "cf5ea98d",
   "metadata": {
    "lines_to_next_cell": 2
   },
   "outputs": [
    {
     "name": "stdout",
     "output_type": "stream",
     "text": [
      "[5.588390e-01 1.135218e+00 1.292233e+00 1.731773e+00 3.768810e-01\n",
      " 1.529740e+00 8.216480e-01 7.402000e-01 1.689147e+00 1.833402e+00\n",
      " 1.118546e+00 9.575790e-01 1.397140e+00 1.571950e-01 5.407200e-02\n",
      " 9.779680e-01 1.991509e+00 1.167114e+00 1.178361e+00 1.364000e-03\n",
      " 6.531680e-01 1.084908e+00 1.371329e+00 1.104000e-01 1.411002e+00\n",
      " 4.492370e-01 1.899989e+00 3.644400e-02 6.674680e-01 1.329116e+00]\n",
      "xp = [[5.588390e-01]\n",
      " [1.135218e+00]\n",
      " [1.292233e+00]\n",
      " [1.731773e+00]\n",
      " [3.768810e-01]\n",
      " [1.529740e+00]\n",
      " [8.216480e-01]\n",
      " [7.402000e-01]\n",
      " [1.689147e+00]\n",
      " [1.833402e+00]\n",
      " [1.118546e+00]\n",
      " [9.575790e-01]\n",
      " [1.397140e+00]\n",
      " [1.571950e-01]\n",
      " [5.407200e-02]\n",
      " [9.779680e-01]\n",
      " [1.991509e+00]\n",
      " [1.167114e+00]\n",
      " [1.178361e+00]\n",
      " [1.364000e-03]\n",
      " [6.531680e-01]\n",
      " [1.084908e+00]\n",
      " [1.371329e+00]\n",
      " [1.104000e-01]\n",
      " [1.411002e+00]\n",
      " [4.492370e-01]\n",
      " [1.899989e+00]\n",
      " [3.644400e-02]\n",
      " [6.674680e-01]\n",
      " [1.329116e+00]]\n"
     ]
    }
   ],
   "source": [
    "my_data = np.genfromtxt(\"Chap4_linreg_data.csv\",delimiter=\",\")\n",
    "#print(my_data)\n",
    "xp = my_data[:,0]\n",
    "print(xp)\n",
    "yp = my_data[:,1]\n",
    "xp = xp.reshape(-1,1)\n",
    "yp = yp.reshape(-1,1)\n",
    "print(\"xp =\",xp)"
   ]
  },
  {
   "cell_type": "code",
   "execution_count": 8,
   "id": "95325746",
   "metadata": {},
   "outputs": [],
   "source": [
    "regr = linear_model.LinearRegression()"
   ]
  },
  {
   "cell_type": "markdown",
   "id": "384c74b1",
   "metadata": {},
   "source": [
    "Now we train the model with training data"
   ]
  },
  {
   "cell_type": "code",
   "execution_count": 9,
   "id": "b76fab3c",
   "metadata": {},
   "outputs": [
    {
     "data": {
      "text/html": [
       "<style>#sk-container-id-3 {color: black;}#sk-container-id-3 pre{padding: 0;}#sk-container-id-3 div.sk-toggleable {background-color: white;}#sk-container-id-3 label.sk-toggleable__label {cursor: pointer;display: block;width: 100%;margin-bottom: 0;padding: 0.3em;box-sizing: border-box;text-align: center;}#sk-container-id-3 label.sk-toggleable__label-arrow:before {content: \"▸\";float: left;margin-right: 0.25em;color: #696969;}#sk-container-id-3 label.sk-toggleable__label-arrow:hover:before {color: black;}#sk-container-id-3 div.sk-estimator:hover label.sk-toggleable__label-arrow:before {color: black;}#sk-container-id-3 div.sk-toggleable__content {max-height: 0;max-width: 0;overflow: hidden;text-align: left;background-color: #f0f8ff;}#sk-container-id-3 div.sk-toggleable__content pre {margin: 0.2em;color: black;border-radius: 0.25em;background-color: #f0f8ff;}#sk-container-id-3 input.sk-toggleable__control:checked~div.sk-toggleable__content {max-height: 200px;max-width: 100%;overflow: auto;}#sk-container-id-3 input.sk-toggleable__control:checked~label.sk-toggleable__label-arrow:before {content: \"▾\";}#sk-container-id-3 div.sk-estimator input.sk-toggleable__control:checked~label.sk-toggleable__label {background-color: #d4ebff;}#sk-container-id-3 div.sk-label input.sk-toggleable__control:checked~label.sk-toggleable__label {background-color: #d4ebff;}#sk-container-id-3 input.sk-hidden--visually {border: 0;clip: rect(1px 1px 1px 1px);clip: rect(1px, 1px, 1px, 1px);height: 1px;margin: -1px;overflow: hidden;padding: 0;position: absolute;width: 1px;}#sk-container-id-3 div.sk-estimator {font-family: monospace;background-color: #f0f8ff;border: 1px dotted black;border-radius: 0.25em;box-sizing: border-box;margin-bottom: 0.5em;}#sk-container-id-3 div.sk-estimator:hover {background-color: #d4ebff;}#sk-container-id-3 div.sk-parallel-item::after {content: \"\";width: 100%;border-bottom: 1px solid gray;flex-grow: 1;}#sk-container-id-3 div.sk-label:hover label.sk-toggleable__label {background-color: #d4ebff;}#sk-container-id-3 div.sk-serial::before {content: \"\";position: absolute;border-left: 1px solid gray;box-sizing: border-box;top: 0;bottom: 0;left: 50%;z-index: 0;}#sk-container-id-3 div.sk-serial {display: flex;flex-direction: column;align-items: center;background-color: white;padding-right: 0.2em;padding-left: 0.2em;position: relative;}#sk-container-id-3 div.sk-item {position: relative;z-index: 1;}#sk-container-id-3 div.sk-parallel {display: flex;align-items: stretch;justify-content: center;background-color: white;position: relative;}#sk-container-id-3 div.sk-item::before, #sk-container-id-3 div.sk-parallel-item::before {content: \"\";position: absolute;border-left: 1px solid gray;box-sizing: border-box;top: 0;bottom: 0;left: 50%;z-index: -1;}#sk-container-id-3 div.sk-parallel-item {display: flex;flex-direction: column;z-index: 1;position: relative;background-color: white;}#sk-container-id-3 div.sk-parallel-item:first-child::after {align-self: flex-end;width: 50%;}#sk-container-id-3 div.sk-parallel-item:last-child::after {align-self: flex-start;width: 50%;}#sk-container-id-3 div.sk-parallel-item:only-child::after {width: 0;}#sk-container-id-3 div.sk-dashed-wrapped {border: 1px dashed gray;margin: 0 0.4em 0.5em 0.4em;box-sizing: border-box;padding-bottom: 0.4em;background-color: white;}#sk-container-id-3 div.sk-label label {font-family: monospace;font-weight: bold;display: inline-block;line-height: 1.2em;}#sk-container-id-3 div.sk-label-container {text-align: center;}#sk-container-id-3 div.sk-container {/* jupyter's `normalize.less` sets `[hidden] { display: none; }` but bootstrap.min.css set `[hidden] { display: none !important; }` so we also need the `!important` here to be able to override the default hidden behavior on the sphinx rendered scikit-learn.org. See: https://github.com/scikit-learn/scikit-learn/issues/21755 */display: inline-block !important;position: relative;}#sk-container-id-3 div.sk-text-repr-fallback {display: none;}</style><div id=\"sk-container-id-3\" class=\"sk-top-container\"><div class=\"sk-text-repr-fallback\"><pre>LinearRegression()</pre><b>In a Jupyter environment, please rerun this cell to show the HTML representation or trust the notebook. <br />On GitHub, the HTML representation is unable to render, please try loading this page with nbviewer.org.</b></div><div class=\"sk-container\" hidden><div class=\"sk-item\"><div class=\"sk-estimator sk-toggleable\"><input class=\"sk-toggleable__control sk-hidden--visually\" id=\"sk-estimator-id-3\" type=\"checkbox\" checked><label for=\"sk-estimator-id-3\" class=\"sk-toggleable__label sk-toggleable__label-arrow\">LinearRegression</label><div class=\"sk-toggleable__content\"><pre>LinearRegression()</pre></div></div></div></div></div>"
      ],
      "text/plain": [
       "LinearRegression()"
      ]
     },
     "execution_count": 9,
     "metadata": {},
     "output_type": "execute_result"
    }
   ],
   "source": [
    "# Training/fitting model with training data\n",
    "regr.fit(xp,yp)"
   ]
  },
  {
   "cell_type": "markdown",
   "id": "b6bd0632",
   "metadata": {},
   "source": [
    "The coefficieints a and b are now attributes of regr object. Note that this gives us the same exact results as our low-level approach above."
   ]
  },
  {
   "cell_type": "code",
   "execution_count": 10,
   "id": "98e81315",
   "metadata": {},
   "outputs": [
    {
     "name": "stdout",
     "output_type": "stream",
     "text": [
      "slope b = [[2.1387759]]\n",
      "y-intercept a = [0.84039871]\n"
     ]
    }
   ],
   "source": [
    "print(\"slope b =\",regr.coef_)\n",
    "print(\"y-intercept a =\",regr.intercept_)"
   ]
  },
  {
   "cell_type": "markdown",
   "id": "035b366f",
   "metadata": {},
   "source": [
    "Now we can make predictions as follows"
   ]
  },
  {
   "cell_type": "code",
   "execution_count": 21,
   "id": "8c36cf20",
   "metadata": {},
   "outputs": [
    {
     "name": "stdout",
     "output_type": "stream",
     "text": [
      "xval [[0.5]]\n",
      "[[1.90978666]]\n",
      "yhat = [[2.03563009]\n",
      " [3.26837561]\n",
      " [3.60419551]\n",
      " [4.54427307]\n",
      " [1.64646271]\n",
      " [4.11216976]\n",
      " [2.59771965]\n",
      " [2.42352063]\n",
      " [4.45310561]\n",
      " [4.76163473]\n",
      " [3.23271794]\n",
      " [2.8884456 ]\n",
      " [3.82856807]\n",
      " [1.17660359]\n",
      " [0.9560466 ]\n",
      " [2.9320531 ]\n",
      " [5.09979017]\n",
      " [3.33659401]\n",
      " [3.36064882]\n",
      " [0.843316  ]\n",
      " [2.23737869]\n",
      " [3.16077379]\n",
      " [3.77336413]\n",
      " [1.07651957]\n",
      " [3.85821578]\n",
      " [1.80121598]\n",
      " [4.9040494 ]\n",
      " [0.91834426]\n",
      " [2.26796318]\n",
      " [3.68307998]]\n"
     ]
    }
   ],
   "source": [
    "# Calculating predictions for a single point\n",
    "xval = np.full((1,1),0.5)\n",
    "print('xval', xval)\n",
    "yval = regr.predict(xval)\n",
    "print(yval)\n",
    "\n",
    "# Prediction for the whole xp array\n",
    "yhat = regr.predict(xp)\n",
    "print(\"yhat =\",yhat)"
   ]
  },
  {
   "cell_type": "markdown",
   "id": "4bbd97fa",
   "metadata": {},
   "source": [
    "You can now plot the regression line as follows"
   ]
  },
  {
   "cell_type": "code",
   "execution_count": 22,
   "id": "792e6c1d",
   "metadata": {},
   "outputs": [
    {
     "data": {
      "text/plain": [
       "[<matplotlib.lines.Line2D at 0x1e4b8a08f50>]"
      ]
     },
     "execution_count": 22,
     "metadata": {},
     "output_type": "execute_result"
    },
    {
     "data": {
      "image/png": "[encoded data removed]",
      "text/plain": [
       "<Figure size 640x480 with 1 Axes>"
      ]
     },
     "metadata": {},
     "output_type": "display_data"
    }
   ],
   "source": [
    "plt.scatter(xp, yp, color='red')\n",
    "plt.plot(xp, yhat)\n",
    "#plt.show()"
   ]
  },
  {
   "cell_type": "markdown",
   "id": "0f804349",
   "metadata": {},
   "source": [
    "With sklearn the accuracy metrics can be easily calculated"
   ]
  },
  {
   "cell_type": "code",
   "execution_count": 23,
   "id": "cecb498a",
   "metadata": {},
   "outputs": [
    {
     "name": "stdout",
     "output_type": "stream",
     "text": [
      "Mean Absolute Error (MAE): 0.19969075618017434\n",
      "Mean Squared Error (MSE): 0.06587573535539963\n",
      "Root Mean Squared Error (RMSE): 0.2566626878909352\n",
      "R2 value: 0.9588798319617569\n"
     ]
    }
   ],
   "source": [
    "# Evaluation\n",
    "print('Mean Absolute Error (MAE):', metrics.mean_absolute_error(yp, yhat))\n",
    "print('Mean Squared Error (MSE):', metrics.mean_squared_error(yp, yhat))\n",
    "print('Root Mean Squared Error (RMSE):', np.sqrt(metrics.mean_squared_error(yp, yhat)))\n",
    "print('R2 value:', metrics.r2_score(yp, yhat))"
   ]
  },
  {
   "cell_type": "code",
   "execution_count": 28,
   "id": "90308b5d",
   "metadata": {},
   "outputs": [
    {
     "data": {
      "image/png": "[encoded data removed]",
      "text/plain": [
       "<Figure size 432x288 with 1 Axes>"
      ]
     },
     "metadata": {
      "needs_background": "light"
     },
     "output_type": "display_data"
    }
   ],
   "source": [
    "import numpy as np\n",
    "import matplotlib.pyplot as plt\n",
    "from sklearn.model_selection import train_test_split\n",
    "from sklearn.linear_model import LinearRegression\n",
    "\n",
    "# Generate example data\n",
    "np.random.seed(42)\n",
    "X = 2 * np.random.rand(100, 1)\n",
    "y = 4 + 3 * X + np.random.randn(100, 1)\n",
    "\n",
    "# Split the dataset into training and testing sets\n",
    "X_train, X_test, y_train, y_test = train_test_split(X, y, test_size=0.2, random_state=42)\n",
    "\n",
    "# Create and train the linear regression model\n",
    "model = LinearRegression()\n",
    "model.fit(X_train, y_train)\n",
    "\n",
    "# Make predictions on the test data\n",
    "y_pred = model.predict(X_test)\n",
    "\n",
    "# Plot the scatter plot\n",
    "plt.scatter(X_test, y_test, color='blue', label='Actual Data')\n",
    "\n",
    "# Plot the regression line\n",
    "plt.plot(X_test, y_pred, color='red', linewidth=2, label='Regression Line')\n",
    "\n",
    "# Add labels and legend\n",
    "plt.xlabel('X')\n",
    "plt.ylabel('y')\n",
    "plt.legend()\n",
    "\n",
    "# Show the plot\n",
    "plt.show()\n"
   ]
  }
 ],
 "metadata": {
  "jupytext": {
   "cell_metadata_filter": "-all",
   "main_language": "python",
   "notebook_metadata_filter": "-all"
  },
  "kernelspec": {
   "display_name": "Python 3 (ipykernel)",
   "language": "python",
   "name": "python3"
  },
  "language_info": {
   "codemirror_mode": {
    "name": "ipython",
    "version": 3
   },
   "file_extension": ".py",
   "mimetype": "text/x-python",
   "name": "python",
   "nbconvert_exporter": "python",
   "pygments_lexer": "ipython3",
   "version": "3.11.4"
  }
 },
 "nbformat": 4,
 "nbformat_minor": 5
}
