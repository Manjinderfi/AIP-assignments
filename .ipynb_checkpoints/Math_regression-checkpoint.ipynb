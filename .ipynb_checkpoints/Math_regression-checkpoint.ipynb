{
 "cells": [
  {
   "cell_type": "markdown",
   "id": "d6d458fc",
   "metadata": {},
   "source": [
    "# The Math behind Linear Regression"
   ]
  },
  {
   "cell_type": "markdown",
   "id": "edd17e8c",
   "metadata": {},
   "source": [
    "Let us consider the set of data points $\\left(x_i , y_i\\right) , i = 1 , 2 , . \\ldots , n$.\n",
    "We shall adopt the standard notation for summation as\n",
    "\n",
    "$$\\sum x_i = \\sum_{i=1}^n x_i = x_1+x_2+\\cdots+x_n$$'\n",
    "\n",
    "<br>\n",
    "Note that multiplicative terms inside the sum not depending on $i$ can be brought in front of the sum since\n",
    "\n",
    "$\\sum bx_i = bx_1+bx_2+\\cdots+bx_n=b(x_1+x_2+\\cdots+x_n)=b\\sum x_i$\n"
   ]
  },
  {
   "cell_type": "markdown",
   "id": "bb4de704",
   "metadata": {},
   "source": [
    "In simple linear regression we assume that the underlying model is the linear model\n",
    "\n",
    "$\\hat y\\ =\\ a+bx.$\n",
    "\n",
    "Here the notation $\\hat{y}$ signifies the predicted  value of $y$ to distinguish it from the actual observed $y$. We form the residual sum of squares as\n",
    "\n",
    "$RSS\\ =\\sum_{ }^{ }(y_i-\\hat{y}_i)^2=\\ \\sum_{ }^{ }\\left(y_i-a-bx_i\\right)^2.$\n",
    "\n",
    "We would like to make this value as small as possible in order to have the smallest total error."
   ]
  },
  {
   "cell_type": "markdown",
   "id": "4aeea3fa",
   "metadata": {},
   "source": [
    "In order to minimize this expression we differentiate it with respect to a and b and set the derivatives to zero. The intermediate steps below are not so important and they can be skipped. It is enough to concentrate on the end results which are the formulas for $a$ and $b$.\n",
    "\n",
    "The partial derivative with respect to a becomes\n",
    "\n",
    "$$\\frac{\\partial RSS}{\\partial a}=-2\\ \\sum_{ }^{ }\\left(y_{i\\ }-\\ \\ a-bx_i\\right)=\\ 2\\left(na-\\sum_{ }^{ }y_i\\ \\ +b\\sum_{ }^{ }x_{i\\ }\\right)=0.$$\n",
    "\n",
    "Solving for a gives us\n",
    "\n",
    "$$a=\\frac{1}{n}\\sum_{ }^{ }y_i-\\frac{1}{n}b\\sum_{ }^{ }x_i=\\overline{y}-b\\overline{x}{,}$$\n",
    "\n",
    "where we have introduced shorthand notation for means of $x$ and $y$ observations."
   ]
  },
  {
   "cell_type": "markdown",
   "id": "db156f85",
   "metadata": {},
   "source": [
    "Partial derivative with respect to b equals\n",
    "\n",
    "$$\\frac{\\partial RSS}{\\partial b}=\\ -2\\left(\\sum_{ }^{ }x_i(y_i-a-bx_i)\\right)=-2\\sum_{ }^{ }(x_iy_i-ax_i-bx_i^2)=0.$$\n",
    "\n",
    "Substituting $a$ from above formula gives us\n",
    "\n",
    "$\\sum_{ }^{ }(x_iy_i-x_i(\\overline{y}-b\\overline{x})-bx_i^2)=0$\n",
    "\n",
    "or\n",
    "\n",
    "$\\sum_{ }^{ }(x_iy_i-x_i\\overline{y})=b\\sum_{ }^{ }(-x_i\\overline{x}+x_i^2).$\n",
    "\n",
    "Solving this for $b$ results in\n",
    "\n",
    "$$b=\\frac{\\sum_{ }^{ }(x_iy_i-x_i\\overline{y})}{\\sum_{ }^{ }(x_i^2-x_i\\overline{x})}=\\frac{\\sum_{ }^{ }x_iy_i-n\\overline{x}\\overline{y}}{\\sum_{ }^{ }x_i^2-n\\overline{x}^2}$$\n"
   ]
  },
  {
   "cell_type": "markdown",
   "id": "4f26c85e",
   "metadata": {},
   "source": [
    "These are the key formulas in simple linear regression. In other words, given data $\\left(x_i , y_i\\right)$ one **first computes the means** $\\overline{x}$ and $\\overline y$ followed by $b$ and finally $a$. This allows one to find the defining formula for the regression line."
   ]
  },
  {
   "cell_type": "markdown",
   "id": "bdce9a74",
   "metadata": {},
   "source": [
    "This means that the regression line $y = a + b x$ passes through the point $\\left(\\overline x {,} \\overline y\\right)$ showing how linear regression is \"regression to the mean\" in its purest form."
   ]
  }
 ],
 "metadata": {
  "kernelspec": {
   "display_name": "Python 3 (ipykernel)",
   "language": "python",
   "name": "python3"
  },
  "language_info": {
   "codemirror_mode": {
    "name": "ipython",
    "version": 3
   },
   "file_extension": ".py",
   "mimetype": "text/x-python",
   "name": "python",
   "nbconvert_exporter": "python",
   "pygments_lexer": "ipython3",
   "version": "3.11.4"
  }
 },
 "nbformat": 4,
 "nbformat_minor": 5
}
